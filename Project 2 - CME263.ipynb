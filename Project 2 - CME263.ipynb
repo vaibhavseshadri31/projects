{
 "cells": [
  {
   "cell_type": "markdown",
   "id": "dffbb7c7",
   "metadata": {},
   "source": [
    "## Imports"
   ]
  },
  {
   "cell_type": "code",
   "execution_count": null,
   "id": "58f47889",
   "metadata": {},
   "outputs": [],
   "source": [
    "from matplotlib import pyplot as plt\n",
    "import numpy as np\n",
    "import math\n",
    "from matplotlib.patches import Polygon\n",
    "from scipy.special import gamma\n",
    "import scipy.stats as stats\n",
    "import csv"
   ]
  },
  {
   "cell_type": "markdown",
   "id": "cd87ba3f",
   "metadata": {},
   "source": [
    "# ACTIVITY 1"
   ]
  },
  {
   "cell_type": "markdown",
   "id": "586b155f",
   "metadata": {},
   "source": [
    "## 1A"
   ]
  },
  {
   "cell_type": "code",
   "execution_count": null,
   "id": "bfdd6bf8",
   "metadata": {},
   "outputs": [],
   "source": [
    "with open()"
   ]
  }
 ],
 "metadata": {
  "kernelspec": {
   "display_name": "Python 3 (ipykernel)",
   "language": "python",
   "name": "python3"
  },
  "language_info": {
   "codemirror_mode": {
    "name": "ipython",
    "version": 3
   },
   "file_extension": ".py",
   "mimetype": "text/x-python",
   "name": "python",
   "nbconvert_exporter": "python",
   "pygments_lexer": "ipython3",
   "version": "3.8.11"
  }
 },
 "nbformat": 4,
 "nbformat_minor": 5
}
